{
 "cells": [
  {
   "cell_type": "code",
   "execution_count": 1,
   "metadata": {},
   "outputs": [],
   "source": [
    "from bs4 import BeautifulSoup as bs\n",
    "from datetime import datetime as dt\n",
    "from apscheduler.schedulers.blocking import BlockingScheduler\n",
    "import requests\n",
    "import pandas as pd"
   ]
  },
  {
   "cell_type": "code",
   "execution_count": 2,
   "metadata": {},
   "outputs": [],
   "source": [
    "aqi = []\n",
    "temperature = []\n",
    "humidity = []\n",
    "pm25 = []\n",
    "pm10 = []\n",
    "o3 = []\n",
    "no2 = []\n",
    "co = []\n",
    "so2 = []\n",
    "date = []"
   ]
  },
  {
   "cell_type": "code",
   "execution_count": 3,
   "metadata": {},
   "outputs": [],
   "source": [
    "def scrap():\n",
    "    page = requests.get(\"https://air-quality.com/place/indonesia/special-region-of-yogyakarta/0e656c5e?lang=en&standard=aqi_us\")\n",
    "    soup = bs(page.content, \"lxml\")\n",
    "    \n",
    "    index = soup.find('div',{'class':'indexValue'}).get_text()\n",
    "    temp = soup.find('div',{'class':'temperature'}).get_text()\n",
    "    hum = soup.find('div',{'class':'humidity'}).get_text()\n",
    "    p25 = soup.find_all('div',{'class':'value'})[0].get_text()\n",
    "    p10 = soup.find_all('div',{'class':'value'})[1].get_text()\n",
    "    o = soup.find_all('div',{'class':'value'})[2].get_text()\n",
    "    no = soup.find_all('div',{'class':'value'})[3].get_text()\n",
    "    c = soup.find_all('div',{'class':'value'})[4].get_text()\n",
    "    so = soup.find_all('div',{'class':'value'})[5].get_text()\n",
    "    now = dt.now()\n",
    "    time = now.strftime(\"%Y/%m/%d %H:%M\")\n",
    "\n",
    "    date.append(time)\n",
    "    aqi.append(index)\n",
    "    temperature.append(temp)\n",
    "    humidity.append(hum)\n",
    "    pm25.append(p25)\n",
    "    pm10.append(p10)\n",
    "    o3.append(o)\n",
    "    no2.append(no)\n",
    "    co.append(c)\n",
    "    so2.append(so)\n",
    "    \n",
    "    df = pd.DataFrame({\n",
    "        \"date_time\":date,\n",
    "        \"AQI\":aqi,\n",
    "        \"Temperature\":temperature,\n",
    "        \"Humidity\":humidity,\n",
    "        \"PM2.5\":pm25,\n",
    "        \"PM10\":pm10,\n",
    "        \"O3\":o3,\n",
    "        \"NO2\":no2,\n",
    "        \"CO\":co,\n",
    "        \"SO2\":so2,\n",
    "    })\n",
    "    \n",
    "    df.to_csv('D:/CSV/air.csv', index = False, encoding = 'utf-8')"
   ]
  },
  {
   "cell_type": "code",
   "execution_count": 4,
   "metadata": {},
   "outputs": [
    {
     "data": {
      "text/plain": [
       "<Job (id=8ad7b5d5930442c5843d94e2b72b84d0 name=scrap)>"
      ]
     },
     "execution_count": 4,
     "metadata": {},
     "output_type": "execute_result"
    }
   ],
   "source": [
    "scheduler = BlockingScheduler()\n",
    "scheduler.add_job(scrap, 'interval', hours=1)"
   ]
  },
  {
   "cell_type": "code",
   "execution_count": null,
   "metadata": {},
   "outputs": [
    {
     "name": "stderr",
     "output_type": "stream",
     "text": [
      "Run time of job \"scrap (trigger: interval[1:00:00], next run at: 2019-11-29 13:00:10 JST)\" was missed by 0:00:02.479287\n"
     ]
    }
   ],
   "source": [
    "scheduler.start()"
   ]
  },
  {
   "cell_type": "code",
   "execution_count": null,
   "metadata": {},
   "outputs": [],
   "source": []
  }
 ],
 "metadata": {
  "kernelspec": {
   "display_name": "Python 3",
   "language": "python",
   "name": "python3"
  },
  "language_info": {
   "codemirror_mode": {
    "name": "ipython",
    "version": 3
   },
   "file_extension": ".py",
   "mimetype": "text/x-python",
   "name": "python",
   "nbconvert_exporter": "python",
   "pygments_lexer": "ipython3",
   "version": "3.7.3"
  }
 },
 "nbformat": 4,
 "nbformat_minor": 2
}
